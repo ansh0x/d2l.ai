{
  "cells": [
    {
      "cell_type": "markdown",
      "id": "608018c8",
      "metadata": {
        "id": "608018c8"
      },
      "source": [
        "The following additional libraries are needed to run this\n",
        "notebook. Note that running on Colab is experimental, please report a Github\n",
        "issue if you have any problem."
      ]
    },
    {
      "cell_type": "code",
      "execution_count": null,
      "id": "91b3a9ef",
      "metadata": {
        "id": "91b3a9ef"
      },
      "outputs": [],
      "source": [
        "!pip install d2l==1.0.3\n"
      ]
    },
    {
      "cell_type": "markdown",
      "id": "d13df7ea",
      "metadata": {
        "origin_pos": 1,
        "id": "d13df7ea"
      },
      "source": [
        "# Synthetic Regression Data\n",
        ":label:`sec_synthetic-regression-data`\n",
        "\n",
        "\n",
        "Machine learning is all about extracting information from data.\n",
        "So you might wonder, what could we possibly learn from synthetic data?\n",
        "While we might not care intrinsically about the patterns\n",
        "that we ourselves baked into an artificial data generating model,\n",
        "such datasets are nevertheless useful for didactic purposes,\n",
        "helping us to evaluate the properties of our learning\n",
        "algorithms and to confirm that our implementations work as expected.\n",
        "For example, if we create data for which the correct parameters are known *a priori*,\n",
        "then we can check that our model can in fact recover them.\n"
      ]
    },
    {
      "cell_type": "code",
      "execution_count": 5,
      "id": "b9773b7e",
      "metadata": {
        "execution": {
          "iopub.execute_input": "2023-08-18T19:36:11.561594Z",
          "iopub.status.busy": "2023-08-18T19:36:11.560983Z",
          "iopub.status.idle": "2023-08-18T19:36:15.344149Z",
          "shell.execute_reply": "2023-08-18T19:36:15.342706Z"
        },
        "origin_pos": 3,
        "tab": [
          "pytorch"
        ],
        "id": "b9773b7e"
      },
      "outputs": [],
      "source": [
        "%matplotlib inline\n",
        "import random\n",
        "import torchX\n",
        "from d2l import torch as d2l"
      ]
    },
    {
      "cell_type": "markdown",
      "id": "4b65a3a2",
      "metadata": {
        "origin_pos": 6,
        "id": "4b65a3a2"
      },
      "source": [
        "## Generating the Dataset\n",
        "\n",
        "For this example, we will work in low dimension\n",
        "for succinctness.\n",
        "The following code snippet generates 1000 examples\n",
        "with 2-dimensional features drawn\n",
        "from a standard normal distribution.\n",
        "The resulting design matrix $\\mathbf{X}$\n",
        "belongs to $\\mathbb{R}^{1000 \\times 2}$.\n",
        "We generate each label by applying\n",
        "a *ground truth* linear function,\n",
        "corrupting them via additive noise $\\boldsymbol{\\epsilon}$,\n",
        "drawn independently and identically for each example:\n",
        "\n",
        "(**$$\\mathbf{y}= \\mathbf{X} \\mathbf{w} + b + \\boldsymbol{\\epsilon}.$$**)\n",
        "\n",
        "For convenience we assume that $\\boldsymbol{\\epsilon}$ is drawn\n",
        "from a normal distribution with mean $\\mu= 0$\n",
        "and standard deviation $\\sigma = 0.01$.\n",
        "Note that for object-oriented design\n",
        "we add the code to the `__init__` method of a subclass of `d2l.DataModule` (introduced in :numref:`oo-design-data`).\n",
        "It is good practice to allow the setting of any additional hyperparameters.\n",
        "We accomplish this with `save_hyperparameters()`.\n",
        "The `batch_size` will be determined later.\n"
      ]
    },
    {
      "cell_type": "code",
      "execution_count": 46,
      "id": "e174e8b1",
      "metadata": {
        "execution": {
          "iopub.execute_input": "2023-08-18T19:36:15.351059Z",
          "iopub.status.busy": "2023-08-18T19:36:15.350010Z",
          "iopub.status.idle": "2023-08-18T19:36:15.358156Z",
          "shell.execute_reply": "2023-08-18T19:36:15.357035Z"
        },
        "origin_pos": 7,
        "tab": [
          "pytorch"
        ],
        "id": "e174e8b1"
      },
      "outputs": [],
      "source": [
        "class SyntheticRegressionData(d2l.DataModule):\n",
        "    \"\"\"Synthetic data for linear regression.\"\"\"\n",
        "    def __init__(self, w, b, noise=0.01, num_train=1000, num_val=1000,\n",
        "                 batch_size=15):\n",
        "        super().__init__()\n",
        "        self.save_hyperparameters()\n",
        "        n = num_train + num_val\n",
        "        self.X = torch.randn(n, len(w))\n",
        "        noise = torch.randn(n, 1) * noise\n",
        "        self.y = torch.matmul(self.X, w.reshape((-1, 1))) + b + noise"
      ]
    },
    {
      "cell_type": "markdown",
      "id": "60afd383",
      "metadata": {
        "origin_pos": 8,
        "id": "60afd383"
      },
      "source": [
        "Below, we set the true parameters to $\\mathbf{w} = [2, -3.4]^\\top$ and $b = 4.2$.\n",
        "Later, we can check our estimated parameters against these *ground truth* values.\n"
      ]
    },
    {
      "cell_type": "code",
      "execution_count": 47,
      "id": "38a83404",
      "metadata": {
        "execution": {
          "iopub.execute_input": "2023-08-18T19:36:15.362285Z",
          "iopub.status.busy": "2023-08-18T19:36:15.361503Z",
          "iopub.status.idle": "2023-08-18T19:36:15.390526Z",
          "shell.execute_reply": "2023-08-18T19:36:15.389339Z"
        },
        "origin_pos": 9,
        "tab": [
          "pytorch"
        ],
        "id": "38a83404"
      },
      "outputs": [],
      "source": [
        "data = SyntheticRegressionData(w=torch.tensor([2, -3.4]), b=4.2)"
      ]
    },
    {
      "cell_type": "markdown",
      "id": "4105d024",
      "metadata": {
        "origin_pos": 10,
        "id": "4105d024"
      },
      "source": [
        "[**Each row in `features` consists of a vector in $\\mathbb{R}^2$ and each row in `labels` is a scalar.**] Let's have a look at the first entry.\n"
      ]
    },
    {
      "cell_type": "code",
      "execution_count": 48,
      "id": "43e267cb",
      "metadata": {
        "execution": {
          "iopub.execute_input": "2023-08-18T19:36:15.395708Z",
          "iopub.status.busy": "2023-08-18T19:36:15.394509Z",
          "iopub.status.idle": "2023-08-18T19:36:15.405078Z",
          "shell.execute_reply": "2023-08-18T19:36:15.402629Z"
        },
        "origin_pos": 11,
        "tab": [
          "pytorch"
        ],
        "id": "43e267cb",
        "outputId": "7d800e6b-bf36-4af0-e326-9471d168491f",
        "colab": {
          "base_uri": "https://localhost:8080/"
        }
      },
      "outputs": [
        {
          "output_type": "stream",
          "name": "stdout",
          "text": [
            "features: tensor([ 0.0091, -1.0880]) \n",
            "label: tensor([7.9094])\n"
          ]
        }
      ],
      "source": [
        "print('features:', data.X[0],'\\nlabel:', data.y[0])"
      ]
    },
    {
      "cell_type": "markdown",
      "id": "bf8516d3",
      "metadata": {
        "origin_pos": 12,
        "id": "bf8516d3"
      },
      "source": [
        "## Reading the Dataset\n",
        "\n",
        "Training machine learning models often requires multiple passes over a dataset,\n",
        "grabbing one minibatch of examples at a time.\n",
        "This data is then used to update the model.\n",
        "To illustrate how this works, we\n",
        "[**implement the `get_dataloader` method,**]\n",
        "registering it in the `SyntheticRegressionData` class via `add_to_class` (introduced in :numref:`oo-design-utilities`).\n",
        "It (**takes a batch size, a matrix of features,\n",
        "and a vector of labels, and generates minibatches of size `batch_size`.**)\n",
        "As such, each minibatch consists of a tuple of features and labels.\n",
        "Note that we need to be mindful of whether we're in training or validation mode:\n",
        "in the former, we will want to read the data in random order,\n",
        "whereas for the latter, being able to read data in a pre-defined order\n",
        "may be important for debugging purposes.\n"
      ]
    },
    {
      "cell_type": "code",
      "execution_count": 49,
      "id": "1686e6b2",
      "metadata": {
        "execution": {
          "iopub.execute_input": "2023-08-18T19:36:15.409740Z",
          "iopub.status.busy": "2023-08-18T19:36:15.408327Z",
          "iopub.status.idle": "2023-08-18T19:36:15.417911Z",
          "shell.execute_reply": "2023-08-18T19:36:15.416944Z"
        },
        "origin_pos": 13,
        "tab": [
          "pytorch"
        ],
        "id": "1686e6b2"
      },
      "outputs": [],
      "source": [
        "@d2l.add_to_class(SyntheticRegressionData)\n",
        "def get_dataloader(self, train):\n",
        "    if train:\n",
        "        indices = list(range(0, self.num_train))\n",
        "        # The examples are read in random order\n",
        "        random.shuffle(indices)\n",
        "    else:\n",
        "        indices = list(range(self.num_train, self.num_train+self.num_val))\n",
        "    for i in range(0, len(indices), self.batch_size):\n",
        "        batch_indices = torch.tensor(indices[i: i+self.batch_size])\n",
        "        yield self.X[batch_indices], self.y[batch_indices]"
      ]
    },
    {
      "cell_type": "markdown",
      "id": "2437653f",
      "metadata": {
        "origin_pos": 14,
        "id": "2437653f"
      },
      "source": [
        "To build some intuition, let's inspect the first minibatch of\n",
        "data. Each minibatch of features provides us with both its size and the dimensionality of input features.\n",
        "Likewise, our minibatch of labels will have a matching shape given by `batch_size`.\n"
      ]
    },
    {
      "cell_type": "code",
      "execution_count": 50,
      "id": "d5af1472",
      "metadata": {
        "execution": {
          "iopub.execute_input": "2023-08-18T19:36:15.424253Z",
          "iopub.status.busy": "2023-08-18T19:36:15.423639Z",
          "iopub.status.idle": "2023-08-18T19:36:15.430119Z",
          "shell.execute_reply": "2023-08-18T19:36:15.429099Z"
        },
        "origin_pos": 15,
        "tab": [
          "pytorch"
        ],
        "id": "d5af1472",
        "outputId": "97bad831-86b1-4ef5-952e-26261a4c87bd",
        "colab": {
          "base_uri": "https://localhost:8080/"
        }
      },
      "outputs": [
        {
          "output_type": "stream",
          "name": "stdout",
          "text": [
            "X shape: torch.Size([15, 2]) \n",
            "y shape: torch.Size([15, 1])\n"
          ]
        }
      ],
      "source": [
        "X, y = next(iter(data.train_dataloader()))\n",
        "print('X shape:', X.shape, '\\ny shape:', y.shape)"
      ]
    },
    {
      "cell_type": "markdown",
      "id": "c485f93e",
      "metadata": {
        "origin_pos": 16,
        "id": "c485f93e"
      },
      "source": [
        "While seemingly innocuous, the invocation\n",
        "of `iter(data.train_dataloader())`\n",
        "illustrates the power of Python's object-oriented design.\n",
        "Note that we added a method to the `SyntheticRegressionData` class\n",
        "*after* creating the `data` object.\n",
        "Nonetheless, the object benefits from\n",
        "the *ex post facto* addition of functionality to the class.\n",
        "\n",
        "Throughout the iteration we obtain distinct minibatches\n",
        "until the entire dataset has been exhausted (try this).\n",
        "While the iteration implemented above is good for didactic purposes,\n",
        "it is inefficient in ways that might get us into trouble with real problems.\n",
        "For example, it requires that we load all the data in memory\n",
        "and that we perform lots of random memory access.\n",
        "The built-in iterators implemented in a deep learning framework\n",
        "are considerably more efficient and they can deal\n",
        "with sources such as data stored in files,\n",
        "data received via a stream,\n",
        "and data generated or processed on the fly.\n",
        "Next let's try to implement the same method using built-in iterators.\n",
        "\n",
        "## Concise Implementation of the Data Loader\n",
        "\n",
        "Rather than writing our own iterator,\n",
        "we can [**call the existing API in a framework to load data.**]\n",
        "As before, we need a dataset with features `X` and labels `y`.\n",
        "Beyond that, we set `batch_size` in the built-in data loader\n",
        "and let it take care of shuffling examples  efficiently.\n"
      ]
    },
    {
      "cell_type": "code",
      "execution_count": 13,
      "id": "d5ae674e",
      "metadata": {
        "execution": {
          "iopub.execute_input": "2023-08-18T19:36:15.434272Z",
          "iopub.status.busy": "2023-08-18T19:36:15.433429Z",
          "iopub.status.idle": "2023-08-18T19:36:15.441792Z",
          "shell.execute_reply": "2023-08-18T19:36:15.439267Z"
        },
        "origin_pos": 18,
        "tab": [
          "pytorch"
        ],
        "id": "d5ae674e"
      },
      "outputs": [],
      "source": [
        "@d2l.add_to_class(d2l.DataModule)  #@save\n",
        "def get_tensorloader(self, tensors, train, indices=slice(0, None)):\n",
        "    tensors = tuple(a[indices] for a in tensors)\n",
        "    dataset = torch.utils.data.TensorDataset(*tensors)\n",
        "    return torch.utils.data.DataLoader(dataset, self.batch_size,\n",
        "                                       shuffle=train)"
      ]
    },
    {
      "cell_type": "code",
      "execution_count": 36,
      "id": "617242ed",
      "metadata": {
        "execution": {
          "iopub.execute_input": "2023-08-18T19:36:15.448335Z",
          "iopub.status.busy": "2023-08-18T19:36:15.447832Z",
          "iopub.status.idle": "2023-08-18T19:36:15.457888Z",
          "shell.execute_reply": "2023-08-18T19:36:15.456920Z"
        },
        "origin_pos": 19,
        "tab": [
          "pytorch"
        ],
        "id": "617242ed"
      },
      "outputs": [],
      "source": [
        "@d2l.add_to_class(SyntheticRegressionData)  #@save\n",
        "def get_dataloader(self, train):\n",
        "    i = slice(0, self.num_train) if train else slice(self.num_train, None)\n",
        "    return self.get_tensorloader((self.X, self.y), train, i)"
      ]
    },
    {
      "cell_type": "markdown",
      "id": "9b36d404",
      "metadata": {
        "origin_pos": 20,
        "id": "9b36d404"
      },
      "source": [
        "The new data loader behaves just like the previous one, except that it is more efficient and has some added functionality.\n"
      ]
    },
    {
      "cell_type": "code",
      "execution_count": 37,
      "id": "2f5d57c3",
      "metadata": {
        "attributes": {
          "classes": [],
          "id": "",
          "n": "4"
        },
        "execution": {
          "iopub.execute_input": "2023-08-18T19:36:15.464003Z",
          "iopub.status.busy": "2023-08-18T19:36:15.462740Z",
          "iopub.status.idle": "2023-08-18T19:36:15.474793Z",
          "shell.execute_reply": "2023-08-18T19:36:15.473623Z"
        },
        "origin_pos": 21,
        "tab": [
          "pytorch"
        ],
        "id": "2f5d57c3",
        "outputId": "6d860e39-cd2a-41d8-f56e-3fe5c9da04d3",
        "colab": {
          "base_uri": "https://localhost:8080/"
        }
      },
      "outputs": [
        {
          "output_type": "stream",
          "name": "stdout",
          "text": [
            "X shape: torch.Size([32, 2]) \n",
            "y shape: torch.Size([32, 1])\n"
          ]
        }
      ],
      "source": [
        "X, y = next(iter(data.train_dataloader()))\n",
        "print('X shape:', X.shape, '\\ny shape:', y.shape)"
      ]
    },
    {
      "cell_type": "markdown",
      "id": "4e8e09f0",
      "metadata": {
        "origin_pos": 22,
        "id": "4e8e09f0"
      },
      "source": [
        "For instance, the data loader provided by the framework API\n",
        "supports the built-in `__len__` method,\n",
        "so we can query its length,\n",
        "i.e., the number of batches.\n"
      ]
    },
    {
      "cell_type": "code",
      "execution_count": 38,
      "id": "790cbdfb",
      "metadata": {
        "execution": {
          "iopub.execute_input": "2023-08-18T19:36:15.479797Z",
          "iopub.status.busy": "2023-08-18T19:36:15.478884Z",
          "iopub.status.idle": "2023-08-18T19:36:15.489245Z",
          "shell.execute_reply": "2023-08-18T19:36:15.488320Z"
        },
        "origin_pos": 23,
        "tab": [
          "pytorch"
        ],
        "id": "790cbdfb",
        "outputId": "f6f64ea1-21f6-41d0-fbd8-eb4b0c5e4a67",
        "colab": {
          "base_uri": "https://localhost:8080/"
        }
      },
      "outputs": [
        {
          "output_type": "execute_result",
          "data": {
            "text/plain": [
              "32"
            ]
          },
          "metadata": {},
          "execution_count": 38
        }
      ],
      "source": [
        "len(data.train_dataloader())"
      ]
    },
    {
      "cell_type": "code",
      "source": [
        "X, y = next(iter(data.train_dataloader()))"
      ],
      "metadata": {
        "id": "2NsT2uSQt9Kb"
      },
      "id": "2NsT2uSQt9Kb",
      "execution_count": 45,
      "outputs": []
    },
    {
      "cell_type": "markdown",
      "id": "d5e73e34",
      "metadata": {
        "origin_pos": 24,
        "id": "d5e73e34"
      },
      "source": [
        "## Summary\n",
        "\n",
        "Data loaders are a convenient way of abstracting out\n",
        "the process of loading and manipulating data.\n",
        "This way the same machine learning *algorithm*\n",
        "is capable of processing many different types and sources of data\n",
        "without the need for modification.\n",
        "One of the nice things about data loaders\n",
        "is that they can be composed.\n",
        "For instance, we might be loading images\n",
        "and then have a postprocessing filter\n",
        "that crops them or modifies them in other ways.\n",
        "As such, data loaders can be used\n",
        "to describe an entire data processing pipeline.\n",
        "\n",
        "As for the model itself, the two-dimensional linear model\n",
        "is about the simplest we might encounter.\n",
        "It lets us test out the accuracy of regression models\n",
        "without worrying about having insufficient amounts of data\n",
        "or an underdetermined system of equations.\n",
        "We will put this to good use in the next section.  \n",
        "\n",
        "\n",
        "## Exercises\n",
        "\n",
        "1. What will happen if the number of examples cannot be divided by the batch size. How would you change this behavior by specifying a different argument by using the framework's API?\n",
        "1. Suppose that we want to generate a huge dataset, where both the size of the parameter vector `w` and the number of examples `num_examples` are large.\n",
        "    1. What happens if we cannot hold all data in memory?\n",
        "    1. How would you shuffle the data if it is held on disk? Your task is to design an *efficient* algorithm that does not require too many random reads or writes. Hint: [pseudorandom permutation generators](https://en.wikipedia.org/wiki/Pseudorandom_permutation) allow you to design a reshuffle without the need to store the permutation table explicitly :cite:`Naor.Reingold.1999`.\n",
        "1. Implement a data generator that produces new data on the fly, every time the iterator is called.\n",
        "1. How would you design a random data generator that generates *the same* data each time it is called?\n"
      ]
    },
    {
      "cell_type": "markdown",
      "id": "3a6d8f2c",
      "metadata": {
        "origin_pos": 26,
        "tab": [
          "pytorch"
        ],
        "id": "3a6d8f2c"
      },
      "source": [
        "[Discussions](https://discuss.d2l.ai/t/6663)\n"
      ]
    },
    {
      "cell_type": "code",
      "source": [
        "# Exe 1\n",
        "#  According to docmuentation in here : ?torch.utils.data.DataLoader\n",
        "# If the dataset cannot be divided by the batch size then the last batch would be smaller.\n",
        "# To prevent that, we can set 'drop_last' to 'True', which will drop the last batch which is small."
      ],
      "metadata": {
        "id": "dtT22ARhu1L-"
      },
      "id": "dtT22ARhu1L-",
      "execution_count": 53,
      "outputs": []
    },
    {
      "cell_type": "code",
      "source": [
        "# Exe 2\n",
        "class SyntheticRegressionData_onTheFly(d2l.DataModule):\n",
        "    \"\"\"Synthetic data for linear regression.\"\"\"\n",
        "    def __init__(self, w, b, noise=0.01, num_train=1000, num_val=1000,\n",
        "                 batch_size=15):\n",
        "        super().__init__()\n",
        "        self.save_hyperparameters()\n",
        "\n",
        "    def get_dataloader(self):\n",
        "        self.X = torch.randn(self.batch_size, len(self.w))\n",
        "        noise = torch.randn(self.batch_size, 1) * self.noise\n",
        "        self.y = torch.matmul(self.X, self.w.reshape((-1, 1))) + self.b + noise\n",
        "\n",
        "        return X, y"
      ],
      "metadata": {
        "id": "h-TwkSdcvnlq"
      },
      "id": "h-TwkSdcvnlq",
      "execution_count": 61,
      "outputs": []
    },
    {
      "cell_type": "code",
      "source": [
        "test = SyntheticRegressionData_onTheFly(w=torch.tensor([2, -3.4]), b=4.2)\n",
        "X, y = test.get_dataloader()"
      ],
      "metadata": {
        "id": "KLsVOS1QwqR_"
      },
      "id": "KLsVOS1QwqR_",
      "execution_count": 62,
      "outputs": []
    },
    {
      "cell_type": "code",
      "source": [
        "print('X: \\n', X, '\\ny: \\n', y)"
      ],
      "metadata": {
        "id": "SLj_MbQvww-o",
        "outputId": "df462bd1-e141-43ac-8e84-11376a6f66c5",
        "colab": {
          "base_uri": "https://localhost:8080/"
        }
      },
      "id": "SLj_MbQvww-o",
      "execution_count": 64,
      "outputs": [
        {
          "output_type": "stream",
          "name": "stdout",
          "text": [
            "X: \n",
            " tensor([[-2.4963, -0.1051],\n",
            "        [-0.0228, -0.2456],\n",
            "        [-0.6453,  2.1891],\n",
            "        [-2.3137, -1.2571],\n",
            "        [-1.5083, -0.5829],\n",
            "        [ 1.0671, -0.5510],\n",
            "        [ 0.0255, -0.3694],\n",
            "        [ 0.2351, -1.0801],\n",
            "        [ 1.8683,  1.2859],\n",
            "        [ 0.6750, -0.4104],\n",
            "        [-0.2670, -0.5828],\n",
            "        [ 1.9091,  0.4346],\n",
            "        [-1.3719, -1.0449],\n",
            "        [-1.0757, -0.3653],\n",
            "        [ 0.2692, -0.8658]]) \n",
            "y: \n",
            " tensor([[-0.4360],\n",
            "        [ 4.9787],\n",
            "        [-4.5330],\n",
            "        [ 3.8477],\n",
            "        [ 3.1615],\n",
            "        [ 8.2102],\n",
            "        [ 5.5093],\n",
            "        [ 8.3641],\n",
            "        [ 3.5662],\n",
            "        [ 6.9375],\n",
            "        [ 5.6565],\n",
            "        [ 6.5429],\n",
            "        [ 5.0166],\n",
            "        [ 3.2961],\n",
            "        [ 7.6936]])\n"
          ]
        }
      ]
    }
  ],
  "metadata": {
    "kernelspec": {
      "display_name": "Python 3",
      "name": "python3"
    },
    "language_info": {
      "name": "python"
    },
    "required_libs": [],
    "colab": {
      "provenance": []
    }
  },
  "nbformat": 4,
  "nbformat_minor": 5
}